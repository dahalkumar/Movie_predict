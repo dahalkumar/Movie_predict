{
 "cells": [
  {
   "cell_type": "code",
   "execution_count": 1,
   "metadata": {},
   "outputs": [],
   "source": [
    "import pandas as pd\n",
    "df = pd.read_csv('Data.csv')"
   ]
  },
  {
   "cell_type": "code",
   "execution_count": 2,
   "metadata": {},
   "outputs": [
    {
     "data": {
      "text/plain": [
       "originalTitle       0\n",
       "world_revenue       0\n",
       "distributor         0\n",
       "opening_theaters    0\n",
       "budget              0\n",
       "MPAA                0\n",
       "release_days        0\n",
       "startYear           0\n",
       "runtimeMinutes      0\n",
       "genres_y            0\n",
       "averageRating       0\n",
       "numVotes            0\n",
       "ordering            0\n",
       "category            0\n",
       "primaryName         0\n",
       "dtype: int64"
      ]
     },
     "execution_count": 2,
     "metadata": {},
     "output_type": "execute_result"
    }
   ],
   "source": [
    "df.isnull().sum()"
   ]
  },
  {
   "cell_type": "code",
   "execution_count": null,
   "metadata": {},
   "outputs": [],
   "source": [
    "class CategoricalEncoder(BaseEstimator, TransformerMixin):\n",
    "    def __init__(self):\n",
    "        pass\n",
    "    \n",
    "    def fit(self, X, y=None):\n",
    "        self.labels_ordered_ = {}\n",
    "\n",
    "        for feature in X.columns:\n",
    "            labels_ordered = X.groupby([feature]).size().sort_values().index\n",
    "            labels_ordered = {value: index for index, value in enumerate(labels_ordered, 0)}\n",
    "            self.labels_ordered_[feature] = labels_ordered\n",
    "        return self\n",
    "    \n",
    "    def transform(self, X, y=None):\n",
    "        for feature, labels_ordered in self.labels_ordered_.items():\n",
    "            X[feature] = X[feature].map(labels_ordered)\n",
    "        return X.dropna()\n",
    "        \n",
    "\n",
    "\n",
    "dataset_schema = read_yaml_file(file_path=schema_file_path)\n",
    "\n",
    "numerical_columns = dataset_schema[NUMERICAL_COLUMN_KEY]\n",
    "categorical_columns = dataset_schema[CATEGORICAL_COLUMN_KEY]\n",
    "\n",
    "\n",
    "num_pipeline = Pipeline([\n",
    "    ('scaler', MinMaxScaler())]\n",
    ")\n",
    "\n",
    "encoding_scaling_pipeline = Pipeline([\n",
    "    ('encoder', CategoricalEncoder()),\n",
    "    ('scaler', MinMaxScaler())\n",
    "])\n",
    "error message: [Found array with 0 sample(s) (shape=(0, 6)) while a minimum of 1 is required by MinMaxScaler.]"
   ]
  }
 ],
 "metadata": {
  "kernelspec": {
   "display_name": "Python 3",
   "language": "python",
   "name": "python3"
  },
  "language_info": {
   "codemirror_mode": {
    "name": "ipython",
    "version": 3
   },
   "file_extension": ".py",
   "mimetype": "text/x-python",
   "name": "python",
   "nbconvert_exporter": "python",
   "pygments_lexer": "ipython3",
   "version": "3.10.10 (main, Mar 21 2023, 18:45:11) [GCC 11.2.0]"
  },
  "orig_nbformat": 4,
  "vscode": {
   "interpreter": {
    "hash": "b443409c8b4977008b316ec2c6ad9edcf4d84518cf3628876b5f0f28f57a1a7f"
   }
  }
 },
 "nbformat": 4,
 "nbformat_minor": 2
}
