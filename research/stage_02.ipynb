{
 "cells": [
  {
   "cell_type": "code",
   "execution_count": 1,
   "metadata": {},
   "outputs": [],
   "source": [
    "import os\n",
    "os.chdir(\"../\")"
   ]
  },
  {
   "cell_type": "code",
   "execution_count": 2,
   "metadata": {},
   "outputs": [],
   "source": [
    "from src.movie_predictor.constants import *"
   ]
  },
  {
   "cell_type": "code",
   "execution_count": 3,
   "metadata": {},
   "outputs": [],
   "source": [
    "from src.movie_predictor.entity.artifact_entity import DataIngestionArtifact"
   ]
  },
  {
   "cell_type": "code",
   "execution_count": 4,
   "metadata": {},
   "outputs": [],
   "source": [
    "from src.movie_predictor.utils.common import *"
   ]
  },
  {
   "cell_type": "code",
   "execution_count": 5,
   "metadata": {},
   "outputs": [],
   "source": [
    "from src.movie_predictor.entity.config_entity import DataValidationConfig"
   ]
  },
  {
   "cell_type": "code",
   "execution_count": 6,
   "metadata": {},
   "outputs": [],
   "source": [
    "class ConfigurationManager:\n",
    "    def __init__(\n",
    "        self, \n",
    "        config_filepath = CONFIG_FILE_PATH,\n",
    "        params_filepath = PARAMS_FILE_PATH):\n",
    "        \n",
    "        self.config = read_yaml(config_filepath)\n",
    "        self.params = read_yaml(params_filepath)\n",
    "\n",
    "        self.schema = read_yaml(DATA_VALIDATION_FILE)\n",
    "\n",
    "        create_directories([self.config.artifacts_root])\n",
    "\n",
    "    \n",
    "    def get_data_validation_config(self) -> DataValidationConfig:\n",
    "        data_validation_config = self.config.data_validation_config\n",
    "        \n",
    "        create_directories([data_validation_config.root_dir])\n",
    "        \n",
    "        data_validation_config = DataValidationConfig(\n",
    "            root_dir = data_validation_config.root_dir,\n",
    "            data_report_file_name = data_validation_config.report_file_name,\n",
    "            report_page_name = data_validation_config.report_page_file_name\n",
    "        )\n",
    "\n",
    "        return data_validation_config"
   ]
  },
  {
   "cell_type": "code",
   "execution_count": 7,
   "metadata": {},
   "outputs": [],
   "source": [
    "\n",
    "from src.movie_predictor.entity.artifact_entity import DataIngestionArtifact,DataValidationArtifact\n"
   ]
  },
  {
   "cell_type": "code",
   "execution_count": 10,
   "metadata": {},
   "outputs": [],
   "source": [
    "from evidently.report import Report\n",
    "from evidently.test_suite import TestSuite\n",
    "from evidently.test_preset import DataStabilityTestPreset\n",
    "from evidently.test_preset import DataQualityTestPreset\n",
    "from evidently.metric_preset import DataDriftPreset\n",
    "\n",
    "import json\n",
    "from movie_predictor.entity.artifact_entity import DataValidationArtifact\n",
    "from movie_predictor import logging\n",
    "import pandas as pd\n",
    "import numpy as np\n",
    "class DataValidation:\n",
    "    \n",
    "    def __init__(self,data_validation_config:DataValidationConfig,data_ingestion_artifact:DataIngestionArtifact):\n",
    "        self.schema_config = read_yaml(path_to_yaml=DATA_VALIDATION_FILE)\n",
    "        self.data_validation_config = data_validation_config\n",
    "        self.data_ingestion_artifact = data_ingestion_artifact\n",
    "\n",
    "    def is_train_test_file_exists(self)-> bool:\n",
    "          \"\"\"\n",
    "          this function ensure the presence of train and test data then only we perform \n",
    "           initiate_data_validation \n",
    "           first we decleare our file present to False since \n",
    "           it is boolean we can return the file to true if file exist\n",
    "          \"\"\"\n",
    "\n",
    "          try:\n",
    "            is_train_file_exist = False  \n",
    "            is_test_file_exist = False\n",
    "            #our output data_ingestion_artifact has the data so\n",
    "            train_file_path = self.data_ingestion_artifact.train_file_path\n",
    "            test_file_path = self.data_ingestion_artifact.test_file_path\n",
    "            \n",
    "            #os.path.exists return boolean value of path exists or not\n",
    "            is_train_file_exist = os.path.exists(train_file_path) \n",
    "            is_test_file_exist = os.path.exists(test_file_path)\n",
    "            \n",
    "            # and operator to make it sure only returns True is both are true otherwise False\n",
    "            is_exists =  is_train_file_exist and is_test_file_exist\n",
    "            #writing logger  \n",
    "            \n",
    "\n",
    "            if not is_exists:\n",
    "                #our output data_ingestion_artifact has the data so\n",
    "                train_file_path = self.data_ingestion_artifact.train_file_path\n",
    "                test_file_path = self.data_ingestion_artifact.test_file_path\n",
    "                messages = f\"Training_file {train_file_path} or Testing file :{test_file_path} is not present \"\n",
    "                raise Exception(messages)\n",
    "        \n",
    "            \n",
    "            return is_exists\n",
    "\n",
    "          except Exception as e:\n",
    "            return e   \n",
    "          \n",
    "    def get_train_test_df(self):\n",
    "        \"\"\"\n",
    "        this function is return to obtain the train and test dataset for checking the data drift \n",
    "        \"\"\"\n",
    "        try:\n",
    "            train_df = pd.read_csv(self.data_ingestion_artifact.train_file_path)\n",
    "            test_df = pd.read_csv(self.data_ingestion_artifact.test_file_path)\n",
    "            return train_df,test_df\n",
    "        except Exception as e:\n",
    "            return e\n",
    "        \n",
    "    def validate_schema_columns_dataset(self)-> bool:\n",
    "        '''\n",
    "        this method will fetch the necessary requirement from #schema_validation.yaml \n",
    "        to check the file contained is satisfied.\n",
    "        '''    \n",
    "\n",
    "        try:\n",
    "            # is_validated = False\n",
    "            # columns = self.schema_config[COLUMNS]\n",
    "            # columns_numbers = self.schema_config['NumberofColumns']\n",
    "            # target_column = self.schema_config['target_column']\n",
    "            # domain_range = self.schema_config['domain_value']\n",
    "            # train_df,test_df = self.get_train_test_df()\n",
    "            # df = train_df\n",
    "            # for keys,values in target_column.items():\n",
    "            #     if df.shape[1]==columns_numbers :\n",
    "            #         pass\n",
    "            #     else:\n",
    "            #         logging.info(f, \"Invalid Column Length for the file %s\" % train_df)\n",
    "            # logging.info('column length is validated')\n",
    "               \n",
    "                \n",
    "                \n",
    "                                   \n",
    "            # \"\"\"perform validation here\"\"\"\n",
    "            # return is_validated\n",
    "            pass\n",
    "        except Exception as e:\n",
    "            return e\n",
    "        \n",
    "    def get_save_data_drift_report(self):\n",
    "        \"\"\"\n",
    "        create the profile object for data drift from Evidently\n",
    "        It ask for profile section which check data drift which need profile of our data\n",
    "        since it is comparision of 2 dataset train and test so we need  dataset \n",
    "        \"\"\"\n",
    "        try:\n",
    "            data_stability = TestSuite(tests=[DataStabilityTestPreset(),])\n",
    "\n",
    "            train_df,test_df = self.get_train_test_df()\n",
    "            data_stability.run(train_df,test_df,column_mapping=None)  #run method accept train and test df to generate data drift report\n",
    "            #now data drift is available in the form of string  format by profile.json() and using json.loads to convert\n",
    "            report= json.loads(data_stability.json())\n",
    "\n",
    "            with open(self.data_validation_config.data_report_file_name,'w') as report_file_name:\n",
    "                json.dump(report,report_file_name,indent=6) #indent=6 is for formatting\n",
    "\n",
    "            return report    \n",
    "       \n",
    "        except Exception as e:\n",
    "            return e\n",
    "\n",
    "    def save_data_drift_report_page(self):\n",
    "        try:\n",
    "            \"\"\"DatadriftTab is required in list format to get the data dashborad\"\"\"\n",
    "            data_stability = TestSuite(tests=[DataStabilityTestPreset(),])\n",
    "\n",
    "            train_df,test_df = self.get_train_test_df()\n",
    "            data_stability.run(train_df,test_df,column_mapping=None)  #run method accept train and test df to generate data drift report\n",
    "            #now data drift is available in the form of string  format by profile.json() and using json.loads to convert\n",
    "            \n",
    "\n",
    "            report_page_file_name = self.data_validation_config.report_page_name\n",
    "\n",
    "            #save in the location\n",
    "            data_stability.save_html(report_page_file_name)\n",
    "           \n",
    "        except Exception as e:\n",
    "            return e \n",
    "\n",
    "    def is_data_drift_found(self)-> bool:\n",
    "        try:\n",
    "            report = self.get_save_data_drift_report()\n",
    "            self.save_data_drift_report_page()\n",
    "            \n",
    "            return True\n",
    "        except Exception as e:\n",
    "            return e    \n",
    "\n",
    "    def initiate_data_validation(self)->DataValidationArtifact:\n",
    "        \"\"\"\n",
    "        In this functioin  schema validation is done.\n",
    "\n",
    "        \"\"\"  \n",
    "        try:\n",
    "            self.is_train_test_file_exists()\n",
    "            self.validate_schema_columns_dataset()\n",
    "            self.is_data_drift_found()\n",
    "            \n",
    "            data_validation_artifact = DataValidationArtifact(\n",
    "                report_file_path=self.data_validation_config.data_report_file_name,\n",
    "                report_page_file_path=self.data_validation_config.report_page_name,\n",
    "                is_validated=True,\n",
    "                message=\"Data Validation performed successully.\"\n",
    "            )\n",
    "            logging.info(f\"Data validation artifact: {data_validation_artifact}\")\n",
    "            return data_validation_artifact\n",
    "            \n",
    "        except Exception as e:\n",
    "            return e\n",
    "\n",
    "\n",
    "    def initiate_data_validation(self)->DataValidationArtifact :\n",
    "        try:\n",
    "            self.is_train_test_file_exists()\n",
    "            self.validate_schema_columns_dataset()\n",
    "            self.is_data_drift_found()\n",
    "\n",
    "            data_validation_artifact = DataValidationArtifact(\n",
    "                schema_file_path=self.data_validation_config.root_dir,\n",
    "                report_file_path=self.data_validation_config.data_report_file_name,\n",
    "                report_page_file_path=self.data_validation_config.report_page_name,\n",
    "                is_validated=True,\n",
    "                message=\"Data Validation performed successully.\"\n",
    "            )\n",
    "            # logging.info(f\"Data validation artifact: {data_validation_artifact}\")\n",
    "            return data_validation_artifact\n",
    "        except Exception as e:\n",
    "            return e    \n",
    "\n",
    "  \n",
    "              "
   ]
  },
  {
   "cell_type": "code",
   "execution_count": 11,
   "metadata": {},
   "outputs": [
    {
     "data": {
      "text/plain": [
       "DataValidationArtifact(schema_file_path='artifacts/data_validation', report_page_file_path='artifacts/data_validation/report.html', report_file_path='artifacts/data_validation/report.json', is_validated=True, message='Data Validation performed successully.')"
      ]
     },
     "execution_count": 11,
     "metadata": {},
     "output_type": "execute_result"
    }
   ],
   "source": [
    "schema = ConfigurationManager()\n",
    "validation_config = schema.get_data_validation_config()\n",
    "data_validation = DataValidation(data_validation_config=validation_config,data_ingestion_artifact=DataIngestionArtifact)\n",
    "data_validation.initiate_data_validation()"
   ]
  },
  {
   "cell_type": "code",
   "execution_count": null,
   "metadata": {},
   "outputs": [],
   "source": [
    "# datatset_schema = read_yaml(DATA_VALIDATION_FILE)"
   ]
  },
  {
   "cell_type": "code",
   "execution_count": null,
   "metadata": {},
   "outputs": [],
   "source": [
    "# datatset_schema"
   ]
  },
  {
   "cell_type": "code",
   "execution_count": null,
   "metadata": {},
   "outputs": [],
   "source": [
    "# data_ingestion_artifact = DataIngestionArtifact\n",
    "# data_ingestion_artifact.train_file_path"
   ]
  },
  {
   "cell_type": "code",
   "execution_count": null,
   "metadata": {},
   "outputs": [],
   "source": [
    "# is_train_file_exist = False  \n",
    "# is_test_file_exist = False\n",
    "# #our output data_ingestion_artifact has the data so\n",
    "# train_file_path = data_ingestion_artifact.train_file_path\n",
    "# test_file_path = data_ingestion_artifact.test_file_path\n",
    "\n",
    "# #os.path.exists return boolean value of path exists or not\n",
    "# os.path.exists(train_file_path) \n",
    "# # is_test_file_exist = os.path.exists(test_file_path)\n",
    "\n",
    "# # # and operator to make it sure only returns True is both are true otherwise False\n",
    "# # is_exists =  is_train_file_exist and is_test_file_exist"
   ]
  },
  {
   "cell_type": "code",
   "execution_count": null,
   "metadata": {},
   "outputs": [],
   "source": [
    "# train_file_path"
   ]
  },
  {
   "cell_type": "code",
   "execution_count": null,
   "metadata": {},
   "outputs": [],
   "source": []
  }
 ],
 "metadata": {
  "kernelspec": {
   "display_name": "base",
   "language": "python",
   "name": "python3"
  },
  "language_info": {
   "codemirror_mode": {
    "name": "ipython",
    "version": 3
   },
   "file_extension": ".py",
   "mimetype": "text/x-python",
   "name": "python",
   "nbconvert_exporter": "python",
   "pygments_lexer": "ipython3",
   "version": "3.9.13 (main, Aug 25 2022, 23:26:10) \n[GCC 11.2.0]"
  },
  "orig_nbformat": 4,
  "vscode": {
   "interpreter": {
    "hash": "b3162193c2f10d39e450ab97a72e680c20ea261c19f3bd912330f83c2669e9be"
   }
  }
 },
 "nbformat": 4,
 "nbformat_minor": 2
}
